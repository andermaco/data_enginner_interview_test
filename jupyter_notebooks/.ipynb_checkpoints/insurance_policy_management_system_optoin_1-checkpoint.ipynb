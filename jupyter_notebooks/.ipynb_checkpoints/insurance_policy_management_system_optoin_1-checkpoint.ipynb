{
 "cells": [
  {
   "cell_type": "markdown",
   "id": "c3921e30-b647-440b-901a-14404801633c",
   "metadata": {},
   "source": [
    "### Imports"
   ]
  },
  {
   "cell_type": "code",
   "execution_count": 1,
   "id": "5cf5b363-75bc-479c-86fb-0b82f8361e8c",
   "metadata": {},
   "outputs": [],
   "source": [
    "from pyspark.sql import SparkSession, Window\n",
    "from pyspark.sql.functions import col, when, expr, year, current_date, datediff, sum as spark_sum, coalesce, lit, to_date, array_contains, round\n",
    "from pyspark.sql.types import StructType, StructField, StringType, IntegerType, ArrayType, DateType, BooleanType, FloatType, MapType"
   ]
  },
  {
   "cell_type": "markdown",
   "id": "5e10ae63-d4f2-42fd-a82d-f902786815da",
   "metadata": {},
   "source": [
    "### Schema definitions"
   ]
  },
  {
   "cell_type": "code",
   "execution_count": 2,
   "id": "e9d5b2c7-2f70-4b4c-9566-808e7e78b25a",
   "metadata": {},
   "outputs": [],
   "source": [
    "accident_history_schema = StructType([\n",
    "    StructField(\"date\", StringType(), True),\n",
    "    StructField(\"at_fault\", BooleanType(), True)\n",
    "])\n",
    "\n",
    "vehicle_policy_schema = StructType([\n",
    "    StructField(\"age\", IntegerType(), True),\n",
    "    StructField(\"policy_type\", StringType(), True),\n",
    "    StructField(\"accident_history\", ArrayType(accident_history_schema), True),\n",
    "    StructField(\"outcome\", StringType(), True)\n",
    "])\n",
    "\n",
    "house_policy_schema = StructType([\n",
    "    StructField(\"age\", IntegerType(), True),\n",
    "    StructField(\"policy_type\", StringType(), True),\n",
    "    StructField(\"flood_risk\", StringType(), True),\n",
    "    StructField(\"n_parrots\", IntegerType(), True),\n",
    "    StructField(\"windows\", MapType(StringType(), IntegerType()), True),\n",
    "    StructField(\"outcome\", StringType(), True)\n",
    "])"
   ]
  },
  {
   "cell_type": "markdown",
   "id": "cadcc3c9-df17-4fef-b6a7-43832ccd2dd5",
   "metadata": {},
   "source": [
    "### Data definition"
   ]
  },
  {
   "cell_type": "code",
   "execution_count": 3,
   "id": "4f03fb33-1082-4fd5-90ec-7696170f2a26",
   "metadata": {},
   "outputs": [],
   "source": [
    "vehicle_data = [\n",
    "    (16, \"vehicle\", [{\"date\": \"2023-04-23\", \"at_fault\": False}], None),\n",
    "    (6, \"vehicle\", [{\"date\": \"2022-07-20\", \"at_fault\": True}, {\"date\": \"2023-04-23\", \"at_fault\": True}, {\"date\": \"2024-02-23\", \"at_fault\": True}], None),\n",
    "    (6, \"vehicle\", [{\"date\": \"2022-07-20\", \"at_fault\": False}, {\"date\": \"2023-04-23\", \"at_fault\": True}, {\"date\": \"2024-01-12\", \"at_fault\": False}], None),  \n",
    "    (3, \"vehicle\", [], None)\n",
    "]\n",
    "\n",
    "house_data = [\n",
    "    (16, \"house\", \"HIGH\", 6, {\"intact\": 5, \"broken\": 0}, \"Blocked by UW Rules\"),\n",
    "    (52, \"house\", \"LOW\", 0, {\"intact\": 2, \"broken\": 3}, \"Blocked by UW Rules\"),\n",
    "    (25, \"house\", \"MEDIUM\", 1, {\"intact\": 4, \"broken\": 1}, \"498.0$\"),  # Corrected outcome\n",
    "    (3, \"house\", \"LOW\", 0, {\"intact\": 6, \"broken\": 0}, \"300$\")\n",
    "]"
   ]
  },
  {
   "cell_type": "markdown",
   "id": "2f1bd2e4-dca3-4079-94ef-4d894908e4b8",
   "metadata": {},
   "source": [
    "### Init Spark session"
   ]
  },
  {
   "cell_type": "code",
   "execution_count": 4,
   "id": "9ca80613-d3a1-4949-9151-b1cb81c4b26c",
   "metadata": {},
   "outputs": [
    {
     "name": "stderr",
     "output_type": "stream",
     "text": [
      "Setting default log level to \"WARN\".\n",
      "To adjust logging level use sc.setLogLevel(newLevel). For SparkR, use setLogLevel(newLevel).\n",
      "25/02/24 07:16:21 WARN NativeCodeLoader: Unable to load native-hadoop library for your platform... using builtin-java classes where applicable\n"
     ]
    }
   ],
   "source": [
    "spark = SparkSession\\\n",
    "    .builder\\\n",
    "    .master(\"local[*]\")\\\n",
    "    .appName(\"insurance_hackerrank_test\")\\\n",
    "    .getOrCreate()"
   ]
  },
  {
   "cell_type": "markdown",
   "id": "73ffa985-642e-4bde-8697-a8ea5201064f",
   "metadata": {},
   "source": [
    "### Create Dataframes"
   ]
  },
  {
   "cell_type": "code",
   "execution_count": 5,
   "id": "fcb0f7a3-74ed-4efc-aaff-2916371a7834",
   "metadata": {},
   "outputs": [],
   "source": [
    "vehicle_df = spark.createDataFrame(data=vehicle_data, schema=vehicle_policy_schema)\n",
    "house_df = spark.createDataFrame(data=house_data, schema=house_policy_schema)"
   ]
  },
  {
   "cell_type": "markdown",
   "id": "9d0d6cdf-70e8-4ea9-bd1e-12801cf8d0e0",
   "metadata": {},
   "source": [
    "### Vehicule rules"
   ]
  },
  {
   "cell_type": "markdown",
   "id": "51bb9f5e-a5d7-41d5-b1d6-df0e7276c7f3",
   "metadata": {},
   "source": [
    "#### Age check"
   ]
  },
  {
   "cell_type": "code",
   "execution_count": 6,
   "id": "e5635cbc-f3d3-4034-8adf-a50b81798a44",
   "metadata": {},
   "outputs": [],
   "source": [
    "vehicle_df = vehicle_df.withColumn(\"outcome\", when(col(\"age\") > 15, \"Blocked by UW Rules\").otherwise(col(\"outcome\")))"
   ]
  },
  {
   "cell_type": "markdown",
   "id": "425b61a0-f4ca-4522-863d-7868a3efd57c",
   "metadata": {},
   "source": [
    "#### Vehícules with more than 2 at-fault accidents in the last 5 years"
   ]
  },
  {
   "cell_type": "markdown",
   "id": "785c1692-3b74-41ad-9f0c-56e351c625b1",
   "metadata": {},
   "source": []
  },
  {
   "cell_type": "code",
   "execution_count": 7,
   "id": "b11aaf4b-7002-4479-b1e0-b459860a86f2",
   "metadata": {},
   "outputs": [],
   "source": [
    "# Outer explode accident_history list\n",
    "vehicle_df = vehicle_df.withColumn(\"exploded_history\", expr(\"explode_outer(accident_history)\"))"
   ]
  },
  {
   "cell_type": "code",
   "execution_count": 8,
   "id": "f0739827-64bd-4f9d-9780-5f802cef6c6f",
   "metadata": {},
   "outputs": [],
   "source": [
    "# Extract date and at_fault, convert date to DateType\n",
    "vehicle_df = vehicle_df.withColumn(\"accident_date\", to_date(col(\"exploded_history.date\")))\n",
    "vehicle_df = vehicle_df.withColumn(\"at_fault\", col(\"exploded_history.at_fault\"))\n"
   ]
  },
  {
   "cell_type": "code",
   "execution_count": 9,
   "id": "0f96b1af-576d-4bab-80fe-5c42bfc1f380",
   "metadata": {},
   "outputs": [],
   "source": [
    "# Define a window specification.  Partition by the policy identifiers.\n",
    "window_spec = Window.partitionBy(\"age\", \"policy_type\", \"accident_history\", \"outcome\").orderBy(\"accident_date\")"
   ]
  },
  {
   "cell_type": "code",
   "execution_count": 10,
   "id": "9c74ad06-0bb1-4fee-bfa3-6fe999b33a2d",
   "metadata": {},
   "outputs": [],
   "source": [
    "# Calculate the cumulative sum of at-fault accidents within the last 5 years.\n",
    "vehicle_df = vehicle_df.withColumn(\n",
    "    \"accidents_last_5_years\",\n",
    "    spark_sum(when((col(\"at_fault\")) & (datediff(current_date(), col(\"accident_date\")) <= 5 * 365), 1).otherwise(0))\n",
    "    .over(window_spec)\n",
    ")"
   ]
  },
  {
   "cell_type": "code",
   "execution_count": 11,
   "id": "d049c04f-6bab-4c8f-b330-bea7d3528418",
   "metadata": {},
   "outputs": [],
   "source": [
    "# Get the *maximum* count for each policy (using another window function). This\n",
    "# is crucial for correctly handling the exploded rows and getting ONE\n",
    "# final count PER POLICY.  We do this *before* dropping duplicates.\n",
    "window_spec_max = Window.partitionBy(\"age\", \"policy_type\", \"accident_history\", \"outcome\")\n",
    "vehicle_df = vehicle_df.withColumn(\"max_accidents_last_5_years\", spark_sum(when((col(\"at_fault\")) & (datediff(current_date(), col(\"accident_date\")) <= 5 * 365), 1).otherwise(0)).over(window_spec_max))\n",
    "vehicle_df = vehicle_df.filter(col(\"accidents_last_5_years\") == col(\"max_accidents_last_5_years\"))"
   ]
  },
  {
   "cell_type": "code",
   "execution_count": 12,
   "id": "c23d56a2-38ab-43b9-bd1c-e37f95712dea",
   "metadata": {},
   "outputs": [],
   "source": [
    "# Drop unnecessary columns and remove duplicate rows to get back to one row per policy.\n",
    "vehicle_df = vehicle_df.drop(\"exploded_history\", \"accident_date\", \"at_foult\", \"accidents_last_5_years\")\n",
    "vehicle_df = vehicle_df.dropDuplicates([\"age\", \"policy_type\", \"accident_history\", \"outcome\"])\n"
   ]
  },
  {
   "cell_type": "code",
   "execution_count": 13,
   "id": "ecca0cb9-1bf3-4a78-a5ab-3de11f337807",
   "metadata": {},
   "outputs": [],
   "source": [
    "# Discard those with more than 2 at-fault accidents in the last 5 years.\n",
    "vehicle_df = vehicle_df.withColumn(\"outcome\", when(col(\"max_accidents_last_5_years\") > 2, \"Blocked by UW Rules\" ).otherwise(col(\"outcome\")))"
   ]
  },
  {
   "cell_type": "code",
   "execution_count": null,
   "id": "53ffeea5-fe57-48db-b451-983d309d6f96",
   "metadata": {},
   "outputs": [],
   "source": []
  },
  {
   "cell_type": "markdown",
   "id": "6402253d-826c-48ae-bde2-37012943bf5e",
   "metadata": {},
   "source": [
    "### Bonus-malus (if not blocked)"
   ]
  },
  {
   "cell_type": "markdown",
   "id": "f95388ac-ef09-4dca-8dd0-8ce762f7eefd",
   "metadata": {},
   "source": [
    "#### 5% tax for each year older than 5 years\n"
   ]
  },
  {
   "cell_type": "code",
   "execution_count": 14,
   "id": "d28be5ca-cb04-43d9-aba6-17b1081db95f",
   "metadata": {},
   "outputs": [],
   "source": [
    "vehicle_df = vehicle_df.withColumn(\"age_factor\", \n",
    "                                   when((col(\"outcome\").isNull()) ,                                   \n",
    "                                       when(col(\"age\") > 5, (col(\"age\") - 5) * 0.05).otherwise(0)).otherwise(None))"
   ]
  },
  {
   "cell_type": "markdown",
   "id": "5d488ebf-55db-4208-8ad7-6bde978caac4",
   "metadata": {},
   "source": [
    "##### 20% tax for each accident in the last 3 years (because we believe in paying for our mistakes)"
   ]
  },
  {
   "cell_type": "code",
   "execution_count": 15,
   "id": "e519efff-a75c-405f-9a33-3f82061d2ef6",
   "metadata": {},
   "outputs": [],
   "source": [
    "##### Outer explode accident_history list\n",
    "vehicle_df = vehicle_df.withColumn(\"exploded_history\", expr(\"explode_outer(accident_history)\"))\n",
    "\n",
    "#### Generate (again) accident_date column\n",
    "vehicle_df = vehicle_df.withColumn(\"accident_date\", to_date(col(\"exploded_history.date\")))"
   ]
  },
  {
   "cell_type": "code",
   "execution_count": 16,
   "id": "4e87bbca-4e63-4362-a206-a250966a885c",
   "metadata": {},
   "outputs": [],
   "source": [
    "#### Create window\n",
    "window_spec_max = Window.partitionBy(\"age\", \"policy_type\", \"accident_history\", \"outcome\")\n",
    "\n",
    "#### Get number of accidentes in the last 3 years (AT_FAULT OR NOT)\n",
    "vehicle_df = vehicle_df.withColumn(\"number_accidents_last_3_years\", spark_sum(when((col(\"outcome\").isNull()) & (datediff(current_date(), col(\"accident_date\")) <= 3 * 365), 1).otherwise(0)).over(window_spec_max))\n"
   ]
  },
  {
   "cell_type": "code",
   "execution_count": 23,
   "id": "803585c8-fe77-4452-a855-10fd0799bc2e",
   "metadata": {},
   "outputs": [
    {
     "name": "stdout",
     "output_type": "stream",
     "text": [
      "+---+-----------+--------------------------------------------------------------+-------------------+--------+--------------------------+----------+-------------------+-------------+-----------------------------+\n",
      "|age|policy_type|accident_history                                              |outcome            |at_fault|max_accidents_last_5_years|age_factor|exploded_history   |accident_date|number_accidents_last_3_years|\n",
      "+---+-----------+--------------------------------------------------------------+-------------------+--------+--------------------------+----------+-------------------+-------------+-----------------------------+\n",
      "|3  |vehicle    |[]                                                            |NULL               |NULL    |0                         |0.0       |NULL               |NULL         |0                            |\n",
      "|6  |vehicle    |[{2022-07-20, false}, {2023-04-23, true}, {2024-01-12, false}]|NULL               |true    |1                         |0.05      |{2022-07-20, false}|2022-07-20   |3                            |\n",
      "|6  |vehicle    |[{2022-07-20, false}, {2023-04-23, true}, {2024-01-12, false}]|NULL               |true    |1                         |0.05      |{2023-04-23, true} |2023-04-23   |3                            |\n",
      "|6  |vehicle    |[{2022-07-20, false}, {2023-04-23, true}, {2024-01-12, false}]|NULL               |true    |1                         |0.05      |{2024-01-12, false}|2024-01-12   |3                            |\n",
      "|6  |vehicle    |[{2022-07-20, true}, {2023-04-23, true}, {2024-02-23, true}]  |Blocked by UW Rules|true    |3                         |NULL      |{2022-07-20, true} |2022-07-20   |0                            |\n",
      "|6  |vehicle    |[{2022-07-20, true}, {2023-04-23, true}, {2024-02-23, true}]  |Blocked by UW Rules|true    |3                         |NULL      |{2023-04-23, true} |2023-04-23   |0                            |\n",
      "|6  |vehicle    |[{2022-07-20, true}, {2023-04-23, true}, {2024-02-23, true}]  |Blocked by UW Rules|true    |3                         |NULL      |{2024-02-23, true} |2024-02-23   |0                            |\n",
      "|16 |vehicle    |[{2023-04-23, false}]                                         |Blocked by UW Rules|false   |0                         |NULL      |{2023-04-23, false}|2023-04-23   |0                            |\n",
      "+---+-----------+--------------------------------------------------------------+-------------------+--------+--------------------------+----------+-------------------+-------------+-----------------------------+\n",
      "\n"
     ]
    }
   ],
   "source": [
    "vehicle_df.show(truncate=False)"
   ]
  },
  {
   "cell_type": "code",
   "execution_count": null,
   "id": "53eedea5-00c7-4cd8-8240-00bde594413c",
   "metadata": {},
   "outputs": [],
   "source": [
    "# Drop unnecessary columns and remove duplicate rows to get back to one row per policy.\n",
    "vehicle_df = vehicle_df.drop(\"exploded_history\", \"accident_date\")\n",
    "vehicle_df = vehicle_df.dropDuplicates([\"age\", \"policy_type\", \"accident_history\", \"outcome\"])"
   ]
  },
  {
   "cell_type": "code",
   "execution_count": null,
   "id": "670aa053-1aa9-450f-80c6-d59949719489",
   "metadata": {},
   "outputs": [],
   "source": [
    "#### Create last 3 years accidents factor\n",
    "vehicle_df = vehicle_df.withColumn(\"accidentes_last_3_years_factor\", col(\"number_accidents_last_3_years\") * 0.20)"
   ]
  },
  {
   "cell_type": "code",
   "execution_count": null,
   "id": "9f2eecbc-ab7e-4057-9ac7-228dfe4c1c55",
   "metadata": {},
   "outputs": [],
   "source": [
    "vehicle_df = vehicle_df.withColumn(\"outcome\",\n",
    "                                   when(col(\"outcome\").isNull(), 500 * (1 + coalesce(col(\"age_factor\"), lit(0)) + coalesce(col(\"accidentes_last_3_years_factor\"), lit(0)))).otherwise(col(\"outcome\"))\n",
    "                                   )\n",
    "vehicle_df = vehicle_df.withColumn(\"outcome\", round(vehicle_df.outcome,1))"
   ]
  },
  {
   "cell_type": "code",
   "execution_count": null,
   "id": "a4df7cb0-b6bb-4b0b-b5b9-2c98cc71cc04",
   "metadata": {},
   "outputs": [],
   "source": [
    "vehicle_df = vehicle_df.drop(\"max_accidents_last_5_years\", \"age_factor\",\"number_accidents_last_3_years\", \"accidentes_last_3_years_factor\")"
   ]
  },
  {
   "cell_type": "code",
   "execution_count": null,
   "id": "36388eaf-b783-485b-a34b-49ca4fee5739",
   "metadata": {},
   "outputs": [],
   "source": [
    "#### Move \"outcome\" to the last column \n",
    "column_names = vehicle_df.columns\n",
    "column_names.remove(\"outcome\")  # Remove \"outcome\" from its current position\n",
    "column_names.append(\"outcome\")   # Add \"outcome\" to the end\n",
    "vehicle_df = vehicle_df.select(*column_names)"
   ]
  },
  {
   "cell_type": "code",
   "execution_count": null,
   "id": "6fe26ee0-bdf1-41e3-94b3-3733746f3be4",
   "metadata": {
    "scrolled": true
   },
   "outputs": [],
   "source": [
    "vehicle_df.show(truncate=False)"
   ]
  }
 ],
 "metadata": {
  "kernelspec": {
   "display_name": "Python 3 (ipykernel)",
   "language": "python",
   "name": "python3"
  },
  "language_info": {
   "codemirror_mode": {
    "name": "ipython",
    "version": 3
   },
   "file_extension": ".py",
   "mimetype": "text/x-python",
   "name": "python",
   "nbconvert_exporter": "python",
   "pygments_lexer": "ipython3",
   "version": "3.13.2"
  }
 },
 "nbformat": 4,
 "nbformat_minor": 5
}
