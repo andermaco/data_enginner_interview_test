{
 "cells": [
  {
   "cell_type": "code",
   "execution_count": 1,
   "id": "4d2637cd-2501-4b20-96bb-a8197c968f3c",
   "metadata": {},
   "outputs": [],
   "source": [
    "# import os\n",
    "# os.environ[\"PYSPARK_PYTHON\"] = \"/usr/bin/python3.11\"\n",
    "# os.environ[\"PYSPARK_DRIVER_PYTHON\"] = \"/usr/bin/python3.11\""
   ]
  },
  {
   "cell_type": "markdown",
   "id": "c0ee38a2-9a24-4221-abfd-6331fe900ec1",
   "metadata": {},
   "source": [
    "### Imports"
   ]
  },
  {
   "cell_type": "code",
   "execution_count": 2,
   "id": "e25364a2-8e88-495d-93d0-c525c15fb3da",
   "metadata": {},
   "outputs": [],
   "source": [
    "from pyspark.sql import SparkSession, Window\n",
    "from pyspark.sql.functions import col, when, expr, year, current_date, datediff, sum as spark_sum, coalesce, lit, to_date, array_contains, size\n",
    "from pyspark.sql.types import StructType, StructField, StringType, IntegerType, ArrayType, DateType, BooleanType, FloatType"
   ]
  },
  {
   "cell_type": "markdown",
   "id": "d9b1e6cd-8aa0-4f49-a38d-0e81a4ab67d5",
   "metadata": {},
   "source": [
    "### Schema definitions"
   ]
  },
  {
   "cell_type": "code",
   "execution_count": 3,
   "id": "bbdaa8ec-7959-406e-b1f9-2398f6bcf4b2",
   "metadata": {},
   "outputs": [],
   "source": [
    "accident_history_schema = StructType([\n",
    "    StructField(\"date\", StringType(), True),\n",
    "    StructField(\"at_fault\", BooleanType(), True)\n",
    "])\n",
    "\n",
    "vehicle_policy_schema = StructType([\n",
    "    StructField(\"age\", IntegerType(), True),\n",
    "    StructField(\"policy_type\", StringType(), True),\n",
    "    StructField(\"accident_history\", ArrayType(accident_history_schema), True),\n",
    "    StructField(\"outcome\", StringType(), True)\n",
    "])\n",
    "\n",
    "vehicle_data = [\n",
    "    (16, \"vehicle\", [{\"date\": \"2023-04-23\", \"at_fault\": False}], None),\n",
    "    (6, \"vehicle\", [{\"date\": \"2022-07-20\", \"at_fault\": True}, {\"date\": \"2023-04-23\", \"at_fault\": True}, {\"date\": \"2024-02-23\", \"at_fault\": True}], None),\n",
    "    (6, \"vehicle\", [{\"date\": \"2022-07-20\", \"at_fault\": False}, {\"date\": \"2023-04-23\", \"at_fault\": True}, {\"date\": \"2024-01-12\", \"at_fault\": False}], None),\n",
    "    (3, \"vehicle\", [], None)\n",
    "]"
   ]
  },
  {
   "cell_type": "markdown",
   "id": "93be9a13-269b-4d2d-93a5-8e92f68e8989",
   "metadata": {},
   "source": [
    "### Init SparkSession & Create Dataframe"
   ]
  },
  {
   "cell_type": "code",
   "execution_count": 4,
   "id": "cf0ef933-6f67-4a70-bbe4-921d24c8a6a0",
   "metadata": {},
   "outputs": [
    {
     "name": "stderr",
     "output_type": "stream",
     "text": [
      "Setting default log level to \"WARN\".\n",
      "To adjust logging level use sc.setLogLevel(newLevel). For SparkR, use setLogLevel(newLevel).\n",
      "25/02/24 09:52:51 WARN NativeCodeLoader: Unable to load native-hadoop library for your platform... using builtin-java classes where applicable\n"
     ]
    }
   ],
   "source": [
    "spark = SparkSession\\\n",
    "    .builder.master(\"local[*]\")\\\n",
    "    .appName(\"insurance_test\")\\\n",
    ".getOrCreate()\n",
    "\n",
    "vehicle_df = spark\\\n",
    "    .createDataFrame(data=vehicle_data, schema=vehicle_policy_schema)"
   ]
  },
  {
   "cell_type": "markdown",
   "id": "7ee8a1e3-3269-4879-9d2e-a0bd88e9d126",
   "metadata": {},
   "source": [
    "### Underwriting rules"
   ]
  },
  {
   "cell_type": "code",
   "execution_count": 5,
   "id": "0678ecb5-6ef8-4f7a-81a0-b3a0fbcccc70",
   "metadata": {},
   "outputs": [],
   "source": [
    "# Discard those vehicles older than 15 years\n",
    "vehicle_df = vehicle_df.withColumn(\"outcome\", when(col(\"age\") > 15, \"Blocked by UW Rules\").otherwise(col(\"outcome\")))"
   ]
  },
  {
   "cell_type": "code",
   "execution_count": 6,
   "id": "edb709e6-b859-4501-a79b-ed58cfc98824",
   "metadata": {},
   "outputs": [],
   "source": [
    "# Create temp column accident_dates without at_fault column\n",
    "vehicle_df = vehicle_df.withColumn(\"accident_dates\", expr(\"transform(accident_history, x -> to_date(x.date))\"))"
   ]
  },
  {
   "cell_type": "code",
   "execution_count": 7,
   "id": "68edc275-2ac7-45bc-adc9-67f2837d2dc5",
   "metadata": {},
   "outputs": [],
   "source": [
    "# --- Underwriting Rules ---\n",
    "\n",
    "# 1. Vehicle Age\n",
    "vehicle_df = vehicle_df.withColumn(\"outcome\", when(col(\"age\") > 15, \"Blocked by UW Rules\").otherwise(col(\"outcome\")))\n",
    "\n",
    "# 2. At-Fault Accidents (More efficient without explode)\n",
    "vehicle_df = vehicle_df.withColumn(\"accident_dates_at_fault\", expr(\"transform(filter(accident_history, x -> x.at_fault), x -> to_date(x.date))\"))\n",
    "\n",
    "# 3. at_fault_accidents_last_5_years counting the number of at_fult accidents last 5 years\n",
    "vehicle_df = vehicle_df.withColumn(\"at_fault_accidents_last_5_years\", size(expr(\"filter(accident_dates, (x, i) -> accident_history[i].at_fault AND datediff(current_date(), x) <= 5 * 365)\")))\n",
    "\n",
    "# 4. Discard at_fault_accidents_last_5_years cars\n",
    "vehicle_df = vehicle_df.withColumn(\"outcome\",\n",
    "                                   when(col(\"at_fault_accidents_last_5_years\") > 2, \"Blocked by UW Rules\")\n",
    "                                   .otherwise(col(\"outcome\")))"
   ]
  },
  {
   "cell_type": "markdown",
   "id": "9c02f95d-b334-4553-bd5c-301459c2c518",
   "metadata": {},
   "source": [
    "### Bonus malus"
   ]
  },
  {
   "cell_type": "code",
   "execution_count": 8,
   "id": "12e0db33-2867-4474-bd2f-ab6070bf9cbb",
   "metadata": {},
   "outputs": [
    {
     "name": "stderr",
     "output_type": "stream",
     "text": [
      "                                                                                "
     ]
    },
    {
     "name": "stdout",
     "output_type": "stream",
     "text": [
      "+---+-----------+--------------------------------------------------------------+-------------------+\n",
      "|age|policy_type|accident_history                                              |outcome            |\n",
      "+---+-----------+--------------------------------------------------------------+-------------------+\n",
      "|16 |vehicle    |[{2023-04-23, false}]                                         |Blocked by UW Rules|\n",
      "|6  |vehicle    |[{2022-07-20, true}, {2023-04-23, true}, {2024-02-23, true}]  |Blocked by UW Rules|\n",
      "|6  |vehicle    |[{2022-07-20, false}, {2023-04-23, true}, {2024-01-12, false}]|630.0              |\n",
      "|3  |vehicle    |[]                                                            |500.0              |\n",
      "+---+-----------+--------------------------------------------------------------+-------------------+\n",
      "\n"
     ]
    }
   ],
   "source": [
    "# --- Bonus-Malus ---\n",
    "\n",
    "# Calculate 5% age factor to apply for those vehicles older than 5 years\n",
    "vehicle_df = vehicle_df.withColumn(\"age_factor\",\n",
    "    when(col(\"outcome\").isNull(),\n",
    "        when(col(\"age\") > 5, (col(\"age\") - 5) * 0.05).otherwise(0)\n",
    "    ).otherwise(None)\n",
    ")\n",
    "\n",
    "\n",
    "# Count at_fault accidents in the last 3 years.  Again, more efficient without explode.\n",
    "vehicle_df = vehicle_df.withColumn(\n",
    "    \"accidents_last_3_years\",\n",
    "    size(expr(\"filter(accident_dates_at_fault, x -> datediff(current_date(), x) <= 3 * 365)\"))\n",
    ")\n",
    "## Get accident_at_fault_factor\n",
    "vehicle_df = vehicle_df.withColumn(\"accident_at_fault_factor\",\n",
    "    when(col(\"outcome\").isNull(),\n",
    "        col(\"accidents_last_3_years\") * 0.20\n",
    "    ).otherwise(None)\n",
    ")\n",
    "\n",
    "\n",
    "# --- Final Premium Calculation ---\n",
    "vehicle_df = vehicle_df.withColumn(\"outcome\",\n",
    "    when(col(\"outcome\").isNull(),\n",
    "        (500 *  (1 + col(\"age_factor\")) * (1 + col(\"accident_at_fault_factor\"))).cast(FloatType())\n",
    "    ).otherwise(col(\"outcome\"))\n",
    ")\n",
    "\n",
    "# --- Cleanup and Output ---\n",
    "vehicle_df = vehicle_df.drop(\"accident_dates\", \"at_fault_accidents_last_5_years\", \"accidents_last_3_years\", \"age_factor\", \"accident_factor\")\n",
    "\n",
    "# Reorder columns\n",
    "vehicle_df = vehicle_df.select(*([\"age\",\"policy_type\",\"accident_history\",\"outcome\"])) \n",
    "\n",
    "vehicle_df.show(truncate=False)\n",
    "\n",
    "spark.stop()"
   ]
  }
 ],
 "metadata": {
  "kernelspec": {
   "display_name": "Python 3 (ipykernel)",
   "language": "python",
   "name": "python3"
  },
  "language_info": {
   "codemirror_mode": {
    "name": "ipython",
    "version": 3
   },
   "file_extension": ".py",
   "mimetype": "text/x-python",
   "name": "python",
   "nbconvert_exporter": "python",
   "pygments_lexer": "ipython3",
   "version": "3.13.2"
  }
 },
 "nbformat": 4,
 "nbformat_minor": 5
}
